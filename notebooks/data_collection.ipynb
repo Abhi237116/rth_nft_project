{
 "cells": [
  {
   "cell_type": "code",
   "execution_count": 1,
   "id": "f3117575",
   "metadata": {},
   "outputs": [],
   "source": [
    "# 📌 Cell 1: Imports\n",
    "import requests\n",
    "import pandas as pd\n",
    "import datetime as dt\n",
    "import os\n"
   ]
  },
  {
   "cell_type": "code",
   "execution_count": null,
   "id": "8be7eec0",
   "metadata": {},
   "outputs": [],
   "source": []
  },
  {
   "cell_type": "code",
   "execution_count": 16,
   "id": "e9b4bf98",
   "metadata": {},
   "outputs": [],
   "source": [
    "# 📌 Cell 2: Configuration\n",
    "API_KEY = \"QPAQMY1K9KM3F5T39MXVY32Z2I1C73WSBW\"  # Replace with your Etherscan API Key\n",
    "CHAIN_ID = 1  # Ethereum mainnet\n",
    "\n",
    "# File path to store the daily gas data\n",
    "file_path = \"data/raw/gas_tracker.csv\"\n",
    "\n",
    "# Ensure directory exists\n",
    "os.makedirs(os.path.dirname(file_path), exist_ok=True)\n"
   ]
  },
  {
   "cell_type": "code",
   "execution_count": 17,
   "id": "485e9be8",
   "metadata": {},
   "outputs": [],
   "source": [
    "# 📌 Cell 3: Function to fetch gas data from Etherscan\n",
    "def fetch_gas_data(api_key: str, chain_id: int = 1):\n",
    "    url = f\"https://api.etherscan.io/v2/api?chainid={chain_id}&module=gastracker&action=gasoracle&apikey={api_key}\"\n",
    "    resp = requests.get(url)\n",
    "    \n",
    "    if resp.status_code != 200:\n",
    "        raise Exception(f\"Failed to fetch data: {resp.status_code}\")\n",
    "    \n",
    "    r = resp.json()['result']\n",
    "    \n",
    "    record = {\n",
    "        \"timestamp\": dt.datetime.utcnow().strftime(\"%Y-%m-%d %H:%M:%S\"),\n",
    "        \"block\": int(r['LastBlock']),\n",
    "        \"safe_gas\": float(r['SafeGasPrice']),\n",
    "        \"propose_gas\": float(r['ProposeGasPrice']),\n",
    "        \"fast_gas\": float(r['FastGasPrice']),\n",
    "        \"avg_gas_used_ratio\": sum(map(float, r['gasUsedRatio'].split(','))) / len(r['gasUsedRatio'].split(',')),\n",
    "    }\n",
    "    return record\n"
   ]
  },
  {
   "cell_type": "code",
   "execution_count": 15,
   "id": "59e1ee82",
   "metadata": {},
   "outputs": [
    {
     "name": "stdout",
     "output_type": "stream",
     "text": [
      "✅ Appended new record to gas_tracker.csv.\n"
     ]
    },
    {
     "name": "stderr",
     "output_type": "stream",
     "text": [
      "C:\\Users\\Devi\\AppData\\Local\\Temp\\ipykernel_2680\\1649902744.py:12: DeprecationWarning: datetime.datetime.utcnow() is deprecated and scheduled for removal in a future version. Use timezone-aware objects to represent datetimes in UTC: datetime.datetime.now(datetime.UTC).\n",
      "  \"timestamp\": dt.datetime.utcnow().strftime(\"%Y-%m-%d %H:%M:%S\"),\n"
     ]
    },
    {
     "data": {
      "text/html": [
       "<div>\n",
       "<style scoped>\n",
       "    .dataframe tbody tr th:only-of-type {\n",
       "        vertical-align: middle;\n",
       "    }\n",
       "\n",
       "    .dataframe tbody tr th {\n",
       "        vertical-align: top;\n",
       "    }\n",
       "\n",
       "    .dataframe thead th {\n",
       "        text-align: right;\n",
       "    }\n",
       "</style>\n",
       "<table border=\"1\" class=\"dataframe\">\n",
       "  <thead>\n",
       "    <tr style=\"text-align: right;\">\n",
       "      <th></th>\n",
       "      <th>timestamp</th>\n",
       "      <th>block</th>\n",
       "      <th>safe_gas</th>\n",
       "      <th>propose_gas</th>\n",
       "      <th>fast_gas</th>\n",
       "      <th>avg_gas_used_ratio</th>\n",
       "    </tr>\n",
       "  </thead>\n",
       "  <tbody>\n",
       "    <tr>\n",
       "      <th>0</th>\n",
       "      <td>2025-10-21 17:56:27</td>\n",
       "      <td>23627558</td>\n",
       "      <td>0.427489</td>\n",
       "      <td>0.429329</td>\n",
       "      <td>0.472262</td>\n",
       "      <td>0.425228</td>\n",
       "    </tr>\n",
       "  </tbody>\n",
       "</table>\n",
       "</div>"
      ],
      "text/plain": [
       "             timestamp     block  safe_gas  propose_gas  fast_gas  \\\n",
       "0  2025-10-21 17:56:27  23627558  0.427489     0.429329  0.472262   \n",
       "\n",
       "   avg_gas_used_ratio  \n",
       "0            0.425228  "
      ]
     },
     "execution_count": 15,
     "metadata": {},
     "output_type": "execute_result"
    }
   ],
   "source": [
    "# 📌 Cell 4: Fetch and store gas data\n",
    "record = fetch_gas_data(API_KEY)\n",
    "df_new = pd.DataFrame([record])\n",
    "\n",
    "# Save or append to CSV\n",
    "if not os.path.exists(file_path):\n",
    "    df_new.to_csv(file_path, index=False)\n",
    "    print(\"✅ Created new gas_tracker.csv with header.\")\n",
    "else:\n",
    "    df_new.to_csv(file_path, mode='a', header=False, index=False)\n",
    "    print(\"✅ Appended new record to gas_tracker.csv.\")\n",
    "\n",
    "df_new\n"
   ]
  }
 ],
 "metadata": {
  "kernelspec": {
   "display_name": "Python 3",
   "language": "python",
   "name": "python3"
  },
  "language_info": {
   "codemirror_mode": {
    "name": "ipython",
    "version": 3
   },
   "file_extension": ".py",
   "mimetype": "text/x-python",
   "name": "python",
   "nbconvert_exporter": "python",
   "pygments_lexer": "ipython3",
   "version": "3.12.6"
  }
 },
 "nbformat": 4,
 "nbformat_minor": 5
}
